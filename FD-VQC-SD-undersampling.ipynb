{
 "cells": [
  {
   "cell_type": "code",
   "execution_count": 1,
   "id": "6bb12934",
   "metadata": {},
   "outputs": [
    {
     "name": "stdout",
     "output_type": "stream",
     "text": [
      "   open  high   low  close    Volume   Volume MA  manipulated\n",
      "0  4700  4700  4580   4600  15576400  12083646.0            0\n",
      "1  4520  4600  4480   4490  18797400  12559327.5            0\n",
      "2  4500  4530  4380   4390  22116400  13069294.0            0\n",
      "3  4380  4550  4380   4430  13101500  13310592.0            0\n",
      "4  4480  4550  4430   4440  12386000  13530883.5            0\n"
     ]
    }
   ],
   "source": [
    "import tensorflow as tf\n",
    "from keras.layers import Dense\n",
    "from keras.models import Sequential\n",
    "import pandas as pd\n",
    "import seaborn as sns\n",
    "import pennylane as qml\n",
    "import numpy as np\n",
    "from sklearn.model_selection import train_test_split\n",
    "from sklearn.metrics import accuracy_score, classification_report, confusion_matrix\n",
    "import matplotlib.pyplot as plt\n",
    "from tensorflow import keras\n",
    "from tensorflow.keras import layers\n",
    "from keras.layers import Input\n",
    "from keras.optimizers import Adam\n",
    "from sklearn.model_selection import cross_val_score, StratifiedKFold\n",
    "from sklearn.preprocessing import StandardScaler\n",
    "from tensorflow.keras.regularizers import l2\n",
    "from imblearn.over_sampling import SMOTE\n",
    "from qiskit.algorithms.optimizers import COBYLA\n",
    "from qiskit.primitives import Sampler                             \n",
    "from qiskit_machine_learning.algorithms.classifiers import VQC \n",
    "from IPython.display import clear_output\n",
    "import matplotlib.pyplot as plt\n",
    "import time, copy, warnings\n",
    "from sklearn.preprocessing import MinMaxScaler\n",
    "from sklearn.model_selection import train_test_split\n",
    "from sklearn.metrics import classification_report, confusion_matrix, accuracy_score, roc_auc_score\n",
    "\n",
    "data = pd.read_csv('C:/Users/RDSC/downloads/FLC_labeled_notime.csv', sep=';')\n",
    "\n",
    "\n",
    "\n",
    "# Display the first few rows of the dataset to understand its structure\n",
    "print(data.head())\n",
    "\n",
    "\n",
    "\n",
    "\n"
   ]
  },
  {
   "cell_type": "code",
   "execution_count": 2,
   "id": "36992834",
   "metadata": {},
   "outputs": [
    {
     "name": "stdout",
     "output_type": "stream",
     "text": [
      "Number of rows and columns: (329, 7)\n"
     ]
    }
   ],
   "source": [
    "# Convert the data into a DataFrame\n",
    "df = pd.DataFrame(data)\n",
    "\n",
    "# Step 2: Explore the dimensions\n",
    "print(\"Number of rows and columns:\", df.shape)"
   ]
  },
  {
   "cell_type": "code",
   "execution_count": 3,
   "id": "7b93704a",
   "metadata": {},
   "outputs": [
    {
     "name": "stdout",
     "output_type": "stream",
     "text": [
      "open           0\n",
      "high           0\n",
      "low            0\n",
      "close          0\n",
      "Volume         0\n",
      "Volume MA      0\n",
      "manipulated    0\n",
      "dtype: int64\n"
     ]
    }
   ],
   "source": [
    "# Convert the data into a DataFrame\n",
    "df = pd.DataFrame(data)\n",
    "\n",
    "# Step 1: Handling Missing Values (if any)\n",
    "# Check for missing values in the DataFrame\n",
    "print(df.isnull().sum())\n",
    "\n"
   ]
  },
  {
   "cell_type": "code",
   "execution_count": 4,
   "id": "990bca8d",
   "metadata": {},
   "outputs": [
    {
     "name": "stdout",
     "output_type": "stream",
     "text": [
      "Outliers in the dataset: [1, 1, 1, 1, 1, 1, 1, 1, 1, 1, 1, 1, 1, 1, 1, 1, 1, 1, 1, 1, 1, 1, 1, 1, 1, 1, 1, 1]\n"
     ]
    }
   ],
   "source": [
    "#If there are any missing values, you can impute them with the mean, median, or mode.\n",
    "# For example, to impute missing values with the mean:\n",
    "df.fillna(df.mean(), inplace=True)\n",
    "\n",
    "# Specify the column for which you want to check outliers\n",
    "column_name = 'manipulated' \n",
    "\n",
    "# Calculate the mean and standard deviation of the column\n",
    "mean = df[column_name].mean()\n",
    "std = df[column_name].std()\n",
    "\n",
    "# Define the threshold for identifying outliers (e.g., z-score > 3)\n",
    "threshold = 3\n",
    "\n",
    "# Initialize a list to store outliers\n",
    "outliers = []\n",
    "\n",
    "# Calculate the z-score for each value in the column and identify outliers\n",
    "for index, value in df[column_name].iteritems():\n",
    "    z_score = (value - mean) / std\n",
    "    if z_score > threshold:\n",
    "        outliers.append(value)\n",
    "\n",
    "print('Outliers in the dataset:', outliers)"
   ]
  },
  {
   "cell_type": "code",
   "execution_count": 5,
   "id": "e8b1debb",
   "metadata": {},
   "outputs": [
    {
     "name": "stdout",
     "output_type": "stream",
     "text": [
      "Number of normal examples = 301\n",
      "Number of fraud examples = 28\n",
      "\n",
      "normal to fraud ratio in the whole data = 10.75\n"
     ]
    }
   ],
   "source": [
    "nonfraud_count = data[data.manipulated == 0]\n",
    "fraud_count = data[data.manipulated == 1]\n",
    "\n",
    "\n",
    "num_normal = nonfraud_count.shape[0] \n",
    "num_fraud = fraud_count.shape[0] \n",
    "\n",
    "print(f\"Number of normal examples = {num_normal}\")\n",
    "print(f\"Number of fraud examples = {num_fraud}\\n\")\n",
    "\n",
    "\n",
    "ratio = num_normal/num_fraud\n",
    "print(f'normal to fraud ratio in the whole data = {round(ratio,2)}')"
   ]
  },
  {
   "cell_type": "markdown",
   "id": "63b4b4da",
   "metadata": {},
   "source": [
    "## Undersampling "
   ]
  },
  {
   "cell_type": "code",
   "execution_count": 6,
   "id": "c12481a6",
   "metadata": {},
   "outputs": [],
   "source": [
    "# normal_fraud_ratio = 1 means balance sample\n",
    "normal_fraud_ratio = 1                                     \n",
    "normal_sample = nonfraud_count.sample(normal_fraud_ratio*num_fraud) \n",
    "\n",
    "\n",
    "# The code concatenates the fraud cases from the fraud_count DataFrame and the balanced normal cases from normal_sample to \n",
    "# create a new DataFrame called sample. The resulting sample DataFrame now has a balanced class distribution.\n",
    "\n",
    "sample = pd.concat([fraud_count, normal_sample], axis=0)  \n",
    "\n",
    "# random shuffling of sample examples 100 times\n",
    "for i in range(100):\n",
    "    sample = np.random.permutation(sample)                   \n",
    "\n",
    "\n",
    "    \n"
   ]
  },
  {
   "cell_type": "code",
   "execution_count": 7,
   "id": "9e8002a3",
   "metadata": {},
   "outputs": [
    {
     "data": {
      "text/plain": [
       "(56, 7)"
      ]
     },
     "execution_count": 7,
     "metadata": {},
     "output_type": "execute_result"
    }
   ],
   "source": [
    "sample.shape"
   ]
  },
  {
   "cell_type": "code",
   "execution_count": 8,
   "id": "1171635b",
   "metadata": {},
   "outputs": [
    {
     "name": "stdout",
     "output_type": "stream",
     "text": [
      "number of examples =  56\n",
      "number of features =  6\n"
     ]
    },
    {
     "data": {
      "text/plain": [
       "(array([[0.53703704, 0.5257732 , 0.59805116, 0.56267409, 0.09085731,\n",
       "         0.67889128],\n",
       "        [0.32804233, 0.32474227, 0.3727162 , 0.33983287, 0.0776408 ,\n",
       "         0.09349391],\n",
       "        [0.54497354, 0.54896907, 0.59500609, 0.58774373, 0.38925645,\n",
       "         0.71499668],\n",
       "        [0.47619048, 0.46391753, 0.51583435, 0.47075209, 0.10948115,\n",
       "         0.74587073],\n",
       "        [0.18783069, 0.19587629, 0.22350792, 0.20334262, 0.13498247,\n",
       "         0.54713718],\n",
       "        [0.55026455, 0.58505155, 0.63459196, 0.63788301, 0.23046056,\n",
       "         0.59930109],\n",
       "        [0.73809524, 0.74484536, 0.84165652, 0.78272981, 0.19143167,\n",
       "         0.50487922],\n",
       "        [0.56084656, 0.55412371, 0.62850183, 0.57938719, 0.11970997,\n",
       "         0.62172372],\n",
       "        [0.32010582, 0.33247423, 0.36662607, 0.36490251, 0.12278432,\n",
       "         0.90150281],\n",
       "        [0.38624339, 0.39690722, 0.42752741, 0.41225627, 0.21216038,\n",
       "         0.97992231],\n",
       "        [0.81746032, 0.86082474, 0.93605359, 0.91922006, 0.29790143,\n",
       "         0.60955767],\n",
       "        [0.29365079, 0.30412371, 0.31303289, 0.28523677, 0.15145626,\n",
       "         0.58605609],\n",
       "        [0.64021164, 0.68556701, 0.7320341 , 0.74373259, 0.19188642,\n",
       "         0.51101628],\n",
       "        [0.6984127 , 0.71391753, 0.75639464, 0.6908078 , 0.26362071,\n",
       "         0.55769434],\n",
       "        [0.22380952, 0.23453608, 0.26126675, 0.23788301, 0.10689562,\n",
       "         0.59506574],\n",
       "        [0.48941799, 0.47680412, 0.57064555, 0.52089136, 0.        ,\n",
       "         0.8641532 ],\n",
       "        [0.33597884, 0.34020619, 0.38794153, 0.36490251, 0.09918049,\n",
       "         0.42227024],\n",
       "        [0.42063492, 0.43041237, 0.48842875, 0.45682451, 0.11006773,\n",
       "         0.35822851],\n",
       "        [0.61375661, 0.61340206, 0.68331303, 0.62395543, 0.15377961,\n",
       "         0.56689125],\n",
       "        [0.38624339, 0.39175258, 0.44884287, 0.4178273 , 0.10121722,\n",
       "         0.27273839],\n",
       "        [0.37037037, 0.3685567 , 0.37880633, 0.40111421, 0.31886343,\n",
       "         0.80692238],\n",
       "        [0.11375661, 0.12113402, 0.11693057, 0.12311978, 0.12336793,\n",
       "         0.35191801],\n",
       "        [0.7037037 , 0.72680412, 0.80511571, 0.77715877, 0.19625242,\n",
       "         0.50357887],\n",
       "        [0.52380952, 0.56443299, 0.60109622, 0.60724234, 0.17898615,\n",
       "         0.71609657],\n",
       "        [0.1962963 , 0.22113402, 0.23325213, 0.23398329, 0.20724409,\n",
       "         0.59596287],\n",
       "        [0.54232804, 0.53865979, 0.56760049, 0.55431755, 0.16827667,\n",
       "         0.69572773],\n",
       "        [0.73015873, 0.73969072, 0.82947625, 0.78551532, 0.14041201,\n",
       "         0.50192139],\n",
       "        [0.74867725, 0.78865979, 0.85688185, 0.85793872, 0.29985965,\n",
       "         0.56103109],\n",
       "        [0.36507937, 0.36597938, 0.3909866 , 0.36490251, 0.25607297,\n",
       "         0.75294871],\n",
       "        [0.42592593, 0.44845361, 0.49451888, 0.47910864, 0.32520247,\n",
       "         0.39481819],\n",
       "        [0.49206349, 0.49484536, 0.53105968, 0.49303621, 0.23223436,\n",
       "         0.66851677],\n",
       "        [0.33068783, 0.35051546, 0.36662607, 0.35654596, 0.20246777,\n",
       "         0.5426377 ],\n",
       "        [0.69312169, 0.70618557, 0.78380024, 0.7632312 , 0.15757829,\n",
       "         0.51398836],\n",
       "        [0.32010582, 0.31958763, 0.36053593, 0.3454039 , 0.10149718,\n",
       "         0.19332161],\n",
       "        [0.72486772, 0.74484536, 0.83252132, 0.80222841, 0.19163386,\n",
       "         0.50520535],\n",
       "        [1.        , 1.        , 1.        , 0.92200557, 1.        ,\n",
       "         0.891396  ],\n",
       "        [0.86772487, 0.92010309, 0.99695493, 1.        , 0.23149003,\n",
       "         0.64243377],\n",
       "        [0.53174603, 0.55412371, 0.61936663, 0.57381616, 0.12631934,\n",
       "         0.67848241],\n",
       "        [0.51322751, 0.5257732 , 0.58891596, 0.55710306, 0.14896479,\n",
       "         0.49228691],\n",
       "        [0.68518519, 0.67783505, 0.71985384, 0.72144847, 0.20747368,\n",
       "         0.52180448],\n",
       "        [0.58994709, 0.6056701 , 0.67417783, 0.65181058, 0.16767972,\n",
       "         0.57218418],\n",
       "        [0.36243386, 0.36082474, 0.39403167, 0.36211699, 0.10526402,\n",
       "         0.1639266 ],\n",
       "        [0.74074074, 0.73453608, 0.80816078, 0.74651811, 0.18590807,\n",
       "         0.50980202],\n",
       "        [0.45502646, 0.44845361, 0.50669915, 0.47910864, 0.15038827,\n",
       "         0.36515965],\n",
       "        [0.37301587, 0.39175258, 0.41534714, 0.42339833, 0.2170189 ,\n",
       "         1.        ],\n",
       "        [0.70634921, 0.70618557, 0.78684531, 0.74651811, 0.12566981,\n",
       "         0.49521605],\n",
       "        [0.07724868, 0.09020619, 0.08830694, 0.08356546, 0.07583293,\n",
       "         0.72907136],\n",
       "        [0.53968254, 0.55670103, 0.62241169, 0.59610028, 0.11524546,\n",
       "         0.63086239],\n",
       "        [0.55026455, 0.54123711, 0.60109622, 0.55710306, 0.16850182,\n",
       "         0.74010924],\n",
       "        [0.74074074, 0.72164948, 0.77466504, 0.71866295, 0.24690103,\n",
       "         0.50031899],\n",
       "        [0.57142857, 0.57731959, 0.63459196, 0.57938719, 0.15016535,\n",
       "         0.73231594],\n",
       "        [0.        , 0.        , 0.        , 0.        , 0.1121015 ,\n",
       "         0.        ],\n",
       "        [0.39153439, 0.40463918, 0.45797808, 0.42896936, 0.11155269,\n",
       "         0.32278253],\n",
       "        [0.41005291, 0.41752577, 0.46711328, 0.45125348, 0.20409197,\n",
       "         0.34402124],\n",
       "        [0.62698413, 0.65463918, 0.72594397, 0.71309192, 0.25998941,\n",
       "         0.57658752],\n",
       "        [0.75661376, 0.74226804, 0.82947625, 0.76880223, 0.13656667,\n",
       "         0.49320834]]),\n",
       " array([1., 0., 0., 0., 0., 1., 1., 1., 0., 0., 1., 0., 1., 1., 0., 0., 0.,\n",
       "        0., 1., 0., 0., 0., 1., 1., 0., 1., 1., 1., 0., 0., 0., 0., 1., 0.,\n",
       "        1., 1., 1., 1., 0., 1., 1., 0., 1., 0., 0., 1., 0., 1., 1., 1., 1.,\n",
       "        0., 0., 0., 1., 1.]))"
      ]
     },
     "execution_count": 8,
     "metadata": {},
     "output_type": "execute_result"
    }
   ],
   "source": [
    "#The variable X contains the feature values from the sample DataFrame, excluding the last column, \n",
    "#which contains the class labels (0 or 1).The variable y contains the class labels from the last column of the sample DataFrame.\n",
    "\n",
    "X, y = sample[:, :-1], sample[:, -1]\n",
    "\n",
    "# feature scaling\n",
    "X = MinMaxScaler().fit_transform(X)            \n",
    "\n",
    "num_examples, num_features = X.shape   \n",
    "print(\"number of examples = \", num_examples)\n",
    "print(\"number of features = \", num_features)\n",
    "\n",
    "\n",
    "X[:,:] , y[:]\n"
   ]
  },
  {
   "cell_type": "code",
   "execution_count": 9,
   "id": "bf9a0c19",
   "metadata": {},
   "outputs": [
    {
     "name": "stdout",
     "output_type": "stream",
     "text": [
      "(number of qubits, dimension of the Hilbert space) = (3, 8)\n",
      "number of examples =  56\n",
      "number of features =  8\n"
     ]
    }
   ],
   "source": [
    "''' \n",
    "Zero padding is to make the number of features equal to a power of 2.\n",
    "it is required for 'amplitude encoding' given below.\n",
    "'''\n",
    "\n",
    "n = int(np.ceil(np.log2(num_features)))\n",
    "dim = 2**n\n",
    "print(f'(number of qubits, dimension of the Hilbert space) = {(n, dim)}')\n",
    "\n",
    "zeros = np.zeros((num_examples, dim-num_features))\n",
    "X = np.append(X, zeros, axis=1)\n",
    "num_examples, num_features = X.shape\n",
    "\n",
    "num_examples, num_features = X.shape   \n",
    "print(\"number of examples = \", num_examples)\n",
    "print(\"number of features = \", num_features)"
   ]
  },
  {
   "cell_type": "code",
   "execution_count": 10,
   "id": "feba0bbb",
   "metadata": {},
   "outputs": [
    {
     "name": "stdout",
     "output_type": "stream",
     "text": [
      "(39, 8) (17, 8) (39,) (17,)\n"
     ]
    }
   ],
   "source": [
    "X_train, X_test, y_train, y_test = train_test_split(X, y, test_size=0.3, random_state=0)\n",
    "\n",
    "print(X_train.shape, X_test.shape ,  y_train.shape, y_test.shape)"
   ]
  },
  {
   "cell_type": "markdown",
   "id": "c4c31f6f",
   "metadata": {},
   "source": [
    "## Model Building"
   ]
  },
  {
   "cell_type": "code",
   "execution_count": 11,
   "id": "752a0cec",
   "metadata": {},
   "outputs": [
    {
     "data": {
      "text/html": [
       "<pre style=\"word-wrap: normal;white-space: pre;background: #fff0;line-height: 1.1;font-family: &quot;Courier New&quot;,Courier,monospace\">     ┌───────────────────────────────────────────────────────────────────┐\n",
       "q_0: ┤0                                                                  ├\n",
       "     │                                                                   │\n",
       "q_1: ┤1 Parameterizedinitialize(x[0],x[1],x[2],x[3],x[4],x[5],x[6],x[7]) ├\n",
       "     │                                                                   │\n",
       "q_2: ┤2                                                                  ├\n",
       "     └───────────────────────────────────────────────────────────────────┘</pre>"
      ],
      "text/plain": [
       "     ┌───────────────────────────────────────────────────────────────────┐\n",
       "q_0: ┤0                                                                  ├\n",
       "     │                                                                   │\n",
       "q_1: ┤1 Parameterizedinitialize(x[0],x[1],x[2],x[3],x[4],x[5],x[6],x[7]) ├\n",
       "     │                                                                   │\n",
       "q_2: ┤2                                                                  ├\n",
       "     └───────────────────────────────────────────────────────────────────┘"
      ]
     },
     "execution_count": 11,
     "metadata": {},
     "output_type": "execute_result"
    }
   ],
   "source": [
    "from qiskit_machine_learning.circuit.library import RawFeatureVector\n",
    "\n",
    "\n",
    "fm = RawFeatureVector(feature_dimension=num_features) \n",
    "fm.draw() "
   ]
  },
  {
   "cell_type": "code",
   "execution_count": 12,
   "id": "f7ec08ab",
   "metadata": {},
   "outputs": [
    {
     "data": {
      "text/html": [
       "<pre style=\"word-wrap: normal;white-space: pre;background: #fff0;line-height: 1.1;font-family: &quot;Courier New&quot;,Courier,monospace\">     ┌──────────┐                 ┌──────────┐                 ┌──────────┐»\n",
       "q_0: ┤ Ry(θ[0]) ├──────────■──────┤ Ry(θ[3]) ├──────────■──────┤ Ry(θ[6]) ├»\n",
       "     ├──────────┤        ┌─┴─┐    ├──────────┤        ┌─┴─┐    ├──────────┤»\n",
       "q_1: ┤ Ry(θ[1]) ├──■─────┤ X ├────┤ Ry(θ[4]) ├──■─────┤ X ├────┤ Ry(θ[7]) ├»\n",
       "     ├──────────┤┌─┴─┐┌──┴───┴───┐└──────────┘┌─┴─┐┌──┴───┴───┐└──────────┘»\n",
       "q_2: ┤ Ry(θ[2]) ├┤ X ├┤ Ry(θ[5]) ├────────────┤ X ├┤ Ry(θ[8]) ├────────────»\n",
       "     └──────────┘└───┘└──────────┘            └───┘└──────────┘            »\n",
       "«                        ┌──────────┐                  ┌───────────┐\n",
       "«q_0: ───────────■───────┤ Ry(θ[9]) ├───────────■──────┤ Ry(θ[12]) ├\n",
       "«              ┌─┴─┐    ┌┴──────────┤         ┌─┴─┐    ├───────────┤\n",
       "«q_1: ──■──────┤ X ├────┤ Ry(θ[10]) ├──■──────┤ X ├────┤ Ry(θ[13]) ├\n",
       "«     ┌─┴─┐┌───┴───┴───┐└───────────┘┌─┴─┐┌───┴───┴───┐└───────────┘\n",
       "«q_2: ┤ X ├┤ Ry(θ[11]) ├─────────────┤ X ├┤ Ry(θ[14]) ├─────────────\n",
       "«     └───┘└───────────┘             └───┘└───────────┘             </pre>"
      ],
      "text/plain": [
       "     ┌──────────┐                 ┌──────────┐                 ┌──────────┐»\n",
       "q_0: ┤ Ry(θ[0]) ├──────────■──────┤ Ry(θ[3]) ├──────────■──────┤ Ry(θ[6]) ├»\n",
       "     ├──────────┤        ┌─┴─┐    ├──────────┤        ┌─┴─┐    ├──────────┤»\n",
       "q_1: ┤ Ry(θ[1]) ├──■─────┤ X ├────┤ Ry(θ[4]) ├──■─────┤ X ├────┤ Ry(θ[7]) ├»\n",
       "     ├──────────┤┌─┴─┐┌──┴───┴───┐└──────────┘┌─┴─┐┌──┴───┴───┐└──────────┘»\n",
       "q_2: ┤ Ry(θ[2]) ├┤ X ├┤ Ry(θ[5]) ├────────────┤ X ├┤ Ry(θ[8]) ├────────────»\n",
       "     └──────────┘└───┘└──────────┘            └───┘└──────────┘            »\n",
       "«                        ┌──────────┐                  ┌───────────┐\n",
       "«q_0: ───────────■───────┤ Ry(θ[9]) ├───────────■──────┤ Ry(θ[12]) ├\n",
       "«              ┌─┴─┐    ┌┴──────────┤         ┌─┴─┐    ├───────────┤\n",
       "«q_1: ──■──────┤ X ├────┤ Ry(θ[10]) ├──■──────┤ X ├────┤ Ry(θ[13]) ├\n",
       "«     ┌─┴─┐┌───┴───┴───┐└───────────┘┌─┴─┐┌───┴───┴───┐└───────────┘\n",
       "«q_2: ┤ X ├┤ Ry(θ[11]) ├─────────────┤ X ├┤ Ry(θ[14]) ├─────────────\n",
       "«     └───┘└───────────┘             └───┘└───────────┘             "
      ]
     },
     "execution_count": 12,
     "metadata": {},
     "output_type": "execute_result"
    }
   ],
   "source": [
    "from qiskit.circuit.library import RealAmplitudes\n",
    "\n",
    "\n",
    "'''\n",
    "For amplitude encoding, num_qubits = n = np.log2(num_features)\n",
    "'''\n",
    "\n",
    "pqc = RealAmplitudes(num_qubits=n, reps= 4)\n",
    "pqc.decompose().draw()"
   ]
  },
  {
   "cell_type": "code",
   "execution_count": 13,
   "id": "494f2893",
   "metadata": {},
   "outputs": [],
   "source": [
    "optimizer = COBYLA(maxiter=150)                 \n",
    "sampler = Sampler()\n",
    "\n",
    "\n",
    "\n",
    "\n",
    "objective_func_vals = []\n",
    "                                    \n",
    "def callback(weights, obj_func_eval):\n",
    "    clear_output(wait=True)\n",
    "    objective_func_vals.append(obj_func_eval)\n",
    "    plt.xlabel(\"Iteration\")\n",
    "    plt.ylabel(\"Objective function value\")\n",
    "    plt.plot(range(len(objective_func_vals)), objective_func_vals)\n",
    "    plt.show()\n",
    "\n",
    "\n",
    "vqc = VQC(\n",
    "    sampler=sampler,\n",
    "    feature_map=fm,\n",
    "    ansatz=pqc,\n",
    "    optimizer=optimizer,\n",
    "    callback=callback,\n",
    ")"
   ]
  },
  {
   "cell_type": "markdown",
   "id": "3648053d",
   "metadata": {},
   "source": [
    "## Training and evaluating performance "
   ]
  },
  {
   "cell_type": "code",
   "execution_count": 14,
   "id": "2df51693",
   "metadata": {},
   "outputs": [
    {
     "data": {
      "image/png": "[encoded data removed]",
      "text/plain": [
       "<Figure size 640x480 with 1 Axes>"
      ]
     },
     "metadata": {},
     "output_type": "display_data"
    },
    {
     "name": "stdout",
     "output_type": "stream",
     "text": [
      "Wall time: 2min 22s\n"
     ]
    },
    {
     "data": {
      "text/plain": [
       "<qiskit_machine_learning.algorithms.classifiers.vqc.VQC at 0x2593f127400>"
      ]
     },
     "execution_count": 14,
     "metadata": {},
     "output_type": "execute_result"
    }
   ],
   "source": [
    "%%time\n",
    "\n",
    "vqc.fit(X_train, y_train)"
   ]
  },
  {
   "cell_type": "code",
   "execution_count": 15,
   "id": "cc5fb9f1",
   "metadata": {},
   "outputs": [
    {
     "name": "stdout",
     "output_type": "stream",
     "text": [
      "              precision    recall  f1-score   support\n",
      "\n",
      "         0.0       1.00      0.78      0.88         9\n",
      "         1.0       0.80      1.00      0.89         8\n",
      "\n",
      "    accuracy                           0.88        17\n",
      "   macro avg       0.90      0.89      0.88        17\n",
      "weighted avg       0.91      0.88      0.88        17\n",
      "\n",
      "[[7 2]\n",
      " [0 8]] = confusion matrix for test set \n",
      " \n"
     ]
    }
   ],
   "source": [
    "y_test_pred = vqc.predict(X_test)\n",
    "\n",
    "\n",
    "print(classification_report(y_test, y_test_pred))\n",
    "print(confusion_matrix(y_test, y_test_pred), \"= confusion matrix for test set \\n \")\n"
   ]
  },
  {
   "cell_type": "code",
   "execution_count": 16,
   "id": "0349e8aa",
   "metadata": {},
   "outputs": [
    {
     "name": "stdout",
     "output_type": "stream",
     "text": [
      "[1. 1. 1. 1. 0. 0. 1. 1. 0. 0. 0. 1. 0. 1. 0. 1. 1.]\n"
     ]
    }
   ],
   "source": [
    "print(y_test_pred)"
   ]
  },
  {
   "cell_type": "code",
   "execution_count": 17,
   "id": "e5964d4f",
   "metadata": {},
   "outputs": [
    {
     "name": "stdout",
     "output_type": "stream",
     "text": [
      "[1. 0. 1. 1. 0. 0. 1. 0. 0. 0. 0. 1. 0. 1. 0. 1. 1.]\n"
     ]
    }
   ],
   "source": [
    "print(y_test)"
   ]
  },
  {
   "cell_type": "code",
   "execution_count": null,
   "id": "0d54e901",
   "metadata": {},
   "outputs": [],
   "source": []
  }
 ],
 "metadata": {
  "kernelspec": {
   "display_name": "Python 3 (ipykernel)",
   "language": "python",
   "name": "python3"
  },
  "language_info": {
   "codemirror_mode": {
    "name": "ipython",
    "version": 3
   },
   "file_extension": ".py",
   "mimetype": "text/x-python",
   "name": "python",
   "nbconvert_exporter": "python",
   "pygments_lexer": "ipython3",
   "version": "3.9.13"
  }
 },
 "nbformat": 4,
 "nbformat_minor": 5
}
