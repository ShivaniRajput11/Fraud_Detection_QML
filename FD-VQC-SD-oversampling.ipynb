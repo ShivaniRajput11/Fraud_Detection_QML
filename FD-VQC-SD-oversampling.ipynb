{
 "cells": [
  {
   "cell_type": "code",
   "execution_count": 1,
   "id": "6bb12934",
   "metadata": {},
   "outputs": [
    {
     "name": "stdout",
     "output_type": "stream",
     "text": [
      "   open  high   low  close    Volume   Volume MA  manipulated\n",
      "0  4700  4700  4580   4600  15576400  12083646.0            0\n",
      "1  4520  4600  4480   4490  18797400  12559327.5            0\n",
      "2  4500  4530  4380   4390  22116400  13069294.0            0\n",
      "3  4380  4550  4380   4430  13101500  13310592.0            0\n",
      "4  4480  4550  4430   4440  12386000  13530883.5            0\n"
     ]
    }
   ],
   "source": [
    "import tensorflow as tf\n",
    "from keras.layers import Dense\n",
    "from keras.models import Sequential\n",
    "import pandas as pd\n",
    "import seaborn as sns\n",
    "import pennylane as qml\n",
    "import numpy as np\n",
    "from sklearn.model_selection import train_test_split\n",
    "from sklearn.metrics import accuracy_score, classification_report, confusion_matrix\n",
    "import matplotlib.pyplot as plt\n",
    "from tensorflow import keras\n",
    "from tensorflow.keras import layers\n",
    "from keras.layers import Input\n",
    "from keras.optimizers import Adam\n",
    "from sklearn.model_selection import cross_val_score, StratifiedKFold\n",
    "from sklearn.preprocessing import StandardScaler\n",
    "from tensorflow.keras.regularizers import l2\n",
    "from imblearn.over_sampling import SMOTE\n",
    "from qiskit.algorithms.optimizers import COBYLA\n",
    "from qiskit.primitives import Sampler                             \n",
    "from qiskit_machine_learning.algorithms.classifiers import VQC \n",
    "from IPython.display import clear_output\n",
    "import matplotlib.pyplot as plt\n",
    "import time, copy, warnings\n",
    "from sklearn.preprocessing import MinMaxScaler\n",
    "from sklearn.model_selection import train_test_split\n",
    "from sklearn.metrics import classification_report, confusion_matrix, accuracy_score\n",
    "\n",
    "data = pd.read_csv('C:/Users/RDSC/downloads/FLC_labeled_notime.csv', sep=';')\n",
    "\n",
    "\n",
    "# Display the first few rows of the dataset to understand its structure\n",
    "print(data.head())\n",
    "\n",
    "\n",
    "\n",
    "\n"
   ]
  },
  {
   "cell_type": "code",
   "execution_count": 2,
   "id": "36992834",
   "metadata": {},
   "outputs": [
    {
     "name": "stdout",
     "output_type": "stream",
     "text": [
      "Number of rows and columns: (329, 7)\n"
     ]
    }
   ],
   "source": [
    "# Convert the data into a DataFrame\n",
    "df = pd.DataFrame(data)\n",
    "\n",
    "# Step 2: Explore the dimensions\n",
    "print(\"Number of rows and columns:\", df.shape)"
   ]
  },
  {
   "cell_type": "code",
   "execution_count": 3,
   "id": "7b93704a",
   "metadata": {},
   "outputs": [
    {
     "name": "stdout",
     "output_type": "stream",
     "text": [
      "open           0\n",
      "high           0\n",
      "low            0\n",
      "close          0\n",
      "Volume         0\n",
      "Volume MA      0\n",
      "manipulated    0\n",
      "dtype: int64\n"
     ]
    }
   ],
   "source": [
    "# Convert the data into a DataFrame\n",
    "df = pd.DataFrame(data)\n",
    "\n",
    "# Step 1: Handling Missing Values (if any)\n",
    "# Check for missing values in the DataFrame\n",
    "print(df.isnull().sum())\n",
    "\n"
   ]
  },
  {
   "cell_type": "markdown",
   "id": "8803559c",
   "metadata": {},
   "source": [
    "## Outliers"
   ]
  },
  {
   "cell_type": "code",
   "execution_count": 4,
   "id": "990bca8d",
   "metadata": {},
   "outputs": [
    {
     "name": "stdout",
     "output_type": "stream",
     "text": [
      "Outliers in the dataset: [1, 1, 1, 1, 1, 1, 1, 1, 1, 1, 1, 1, 1, 1, 1, 1, 1, 1, 1, 1, 1, 1, 1, 1, 1, 1, 1, 1]\n"
     ]
    }
   ],
   "source": [
    "#If there are any missing values, you can impute them with the mean, median, or mode.\n",
    "# For example, to impute missing values with the mean:\n",
    "df.fillna(df.mean(), inplace=True)\n",
    "\n",
    "# Specify the column for which you want to check outliers\n",
    "column_name = 'manipulated'  \n",
    "\n",
    "# Calculate the mean and standard deviation of the column\n",
    "mean = df[column_name].mean()\n",
    "std = df[column_name].std()\n",
    "\n",
    "# Define the threshold for identifying outliers (e.g., z-score > 3)\n",
    "threshold = 3\n",
    "\n",
    "# Initialize a list to store outliers\n",
    "outliers = []\n",
    "\n",
    "# Calculate the z-score for each value in the column and identify outliers\n",
    "for index, value in df[column_name].iteritems():\n",
    "    z_score = (value - mean) / std\n",
    "    if z_score > threshold:\n",
    "        outliers.append(value)\n",
    "\n",
    "print('Outliers in the dataset:', outliers)"
   ]
  },
  {
   "cell_type": "code",
   "execution_count": 5,
   "id": "e8b1debb",
   "metadata": {},
   "outputs": [
    {
     "name": "stdout",
     "output_type": "stream",
     "text": [
      "Number of normal examples = 301\n",
      "Number of fraud examples = 28\n",
      "\n",
      "normal to fraud ratio in the whole data = 10.75\n"
     ]
    }
   ],
   "source": [
    "nonfraud_count = data[data.manipulated == 0]\n",
    "fraud_count = data[data.manipulated == 1]\n",
    "\n",
    "\n",
    "num_normal = nonfraud_count.shape[0] \n",
    "num_fraud = fraud_count.shape[0] \n",
    "\n",
    "print(f\"Number of normal examples = {num_normal}\")\n",
    "print(f\"Number of fraud examples = {num_fraud}\\n\")\n",
    "\n",
    "\n",
    "ratio = num_normal/num_fraud\n",
    "print(f'normal to fraud ratio in the whole data = {round(ratio,2)}')"
   ]
  },
  {
   "cell_type": "markdown",
   "id": "46b4303b",
   "metadata": {},
   "source": [
    "## Oversampling"
   ]
  },
  {
   "cell_type": "code",
   "execution_count": 6,
   "id": "8b43c491",
   "metadata": {},
   "outputs": [
    {
     "name": "stdout",
     "output_type": "stream",
     "text": [
      "Number of examples =  602\n",
      "Number of features =  6\n",
      "    open   high    low  close    Volume     Volume MA  manipulated\n",
      "0  13500  14700  13450  14700  50669900  2.761798e+07            0\n",
      "1  17483  18083  17157  17975  21938156  2.457838e+07            1\n",
      "2  18246  18544  17644  18082  17712914  2.389480e+07            1\n",
      "3  11200  11500  10650  11050  30480200  3.433716e+07            0\n",
      "4  10750  10900  10500  10800  14144600  1.669834e+07            0\n",
      "5  10600  10850  10100  10450  15099100  2.593997e+07            0\n",
      "6   5500   5540   5450   5540  22645300  1.803185e+07            0\n",
      "7  15612  16107  15188  15838  23101840  2.651915e+07            1\n",
      "8  10500  10800  10300  10450  37416000  3.423918e+07            0\n",
      "9  17171  18247  16971  18135  26531544  2.422690e+07            1\n"
     ]
    }
   ],
   "source": [
    "import pandas as pd\n",
    "from sklearn.preprocessing import MinMaxScaler\n",
    "from imblearn.over_sampling import SMOTE\n",
    "\n",
    "\n",
    "# Instantiate the SMOTE object\n",
    "smote = SMOTE(sampling_strategy='auto')\n",
    "\n",
    "# Resample the data using SMOTE\n",
    "X_resampled, y_resampled = smote.fit_resample(pd.concat([nonfraud_count, fraud_count], axis=0).iloc[:, :-1], \n",
    "                                              pd.concat([nonfraud_count, fraud_count], axis=0).iloc[:, -1])\n",
    "\n",
    "# Combine the resampled data with the original fraud cases to create the final oversampled dataset\n",
    "oversampled_data = pd.concat([pd.DataFrame(X_resampled), pd.Series(y_resampled, name='manipulated')], axis=1)\n",
    "\n",
    "# Shuffle the data\n",
    "oversampled_data = oversampled_data.sample(frac=1, random_state=42).reset_index(drop=True)\n",
    "\n",
    "# Feature scaling (if needed)\n",
    "X = oversampled_data.iloc[:, :-1].values\n",
    "X = MinMaxScaler().fit_transform(X)\n",
    "\n",
    "# The target labels 'y' can be obtained from the last column\n",
    "y = oversampled_data.iloc[:, -1].values\n",
    "\n",
    "# Print the number of examples and features\n",
    "num_examples, num_features = X.shape\n",
    "print(\"Number of examples = \", num_examples)\n",
    "print(\"Number of features = \", num_features)\n",
    "\n",
    "# Print the first three examples\n",
    "print(oversampled_data.head(10))\n"
   ]
  },
  {
   "cell_type": "code",
   "execution_count": 7,
   "id": "995f53cc",
   "metadata": {},
   "outputs": [
    {
     "name": "stdout",
     "output_type": "stream",
     "text": [
      "(number of qubits, dimension of the Hilbert space) = (3, 8)\n",
      "number of examples =  602\n",
      "number of features =  8\n"
     ]
    }
   ],
   "source": [
    "''' \n",
    "Zero padding is to make the number of features equal to a power of 2.\n",
    "it is required for 'amplitude encoding' given below.\n",
    "'''\n",
    "\n",
    "n = int(np.ceil(np.log2(num_features)))\n",
    "dim = 2**n\n",
    "print(f'(number of qubits, dimension of the Hilbert space) = {(n, dim)}')\n",
    "\n",
    "zeros = np.zeros((num_examples, dim-num_features))\n",
    "X = np.append(X, zeros, axis=1)\n",
    "num_examples, num_features = X.shape\n",
    "\n",
    "num_examples, num_features = X.shape   \n",
    "print(\"number of examples = \", num_examples)\n",
    "print(\"number of features = \", num_features)"
   ]
  },
  {
   "cell_type": "code",
   "execution_count": 8,
   "id": "feba0bbb",
   "metadata": {},
   "outputs": [
    {
     "name": "stdout",
     "output_type": "stream",
     "text": [
      "(421, 8) (181, 8) (421,) (181,)\n"
     ]
    }
   ],
   "source": [
    "X_train, X_test, y_train, y_test = train_test_split(X, y, test_size=0.3, random_state=0)\n",
    "\n",
    "print(X_train.shape, X_test.shape ,  y_train.shape, y_test.shape)"
   ]
  },
  {
   "cell_type": "markdown",
   "id": "a2ff85fb",
   "metadata": {},
   "source": [
    "## Model Building"
   ]
  },
  {
   "cell_type": "code",
   "execution_count": 9,
   "id": "752a0cec",
   "metadata": {},
   "outputs": [
    {
     "data": {
      "text/html": [
       "<pre style=\"word-wrap: normal;white-space: pre;background: #fff0;line-height: 1.1;font-family: &quot;Courier New&quot;,Courier,monospace\">     ┌───────────────────────────────────────────────────────────────────┐\n",
       "q_0: ┤0                                                                  ├\n",
       "     │                                                                   │\n",
       "q_1: ┤1 Parameterizedinitialize(x[0],x[1],x[2],x[3],x[4],x[5],x[6],x[7]) ├\n",
       "     │                                                                   │\n",
       "q_2: ┤2                                                                  ├\n",
       "     └───────────────────────────────────────────────────────────────────┘</pre>"
      ],
      "text/plain": [
       "     ┌───────────────────────────────────────────────────────────────────┐\n",
       "q_0: ┤0                                                                  ├\n",
       "     │                                                                   │\n",
       "q_1: ┤1 Parameterizedinitialize(x[0],x[1],x[2],x[3],x[4],x[5],x[6],x[7]) ├\n",
       "     │                                                                   │\n",
       "q_2: ┤2                                                                  ├\n",
       "     └───────────────────────────────────────────────────────────────────┘"
      ]
     },
     "execution_count": 9,
     "metadata": {},
     "output_type": "execute_result"
    }
   ],
   "source": [
    "from qiskit_machine_learning.circuit.library import RawFeatureVector\n",
    "\n",
    "\n",
    "fm = RawFeatureVector(feature_dimension=num_features) \n",
    "fm.draw() "
   ]
  },
  {
   "cell_type": "code",
   "execution_count": 10,
   "id": "f7ec08ab",
   "metadata": {},
   "outputs": [
    {
     "data": {
      "text/html": [
       "<pre style=\"word-wrap: normal;white-space: pre;background: #fff0;line-height: 1.1;font-family: &quot;Courier New&quot;,Courier,monospace\">     ┌──────────┐                 ┌──────────┐                 ┌──────────┐»\n",
       "q_0: ┤ Ry(θ[0]) ├──────────■──────┤ Ry(θ[3]) ├──────────■──────┤ Ry(θ[6]) ├»\n",
       "     ├──────────┤        ┌─┴─┐    ├──────────┤        ┌─┴─┐    ├──────────┤»\n",
       "q_1: ┤ Ry(θ[1]) ├──■─────┤ X ├────┤ Ry(θ[4]) ├──■─────┤ X ├────┤ Ry(θ[7]) ├»\n",
       "     ├──────────┤┌─┴─┐┌──┴───┴───┐└──────────┘┌─┴─┐┌──┴───┴───┐└──────────┘»\n",
       "q_2: ┤ Ry(θ[2]) ├┤ X ├┤ Ry(θ[5]) ├────────────┤ X ├┤ Ry(θ[8]) ├────────────»\n",
       "     └──────────┘└───┘└──────────┘            └───┘└──────────┘            »\n",
       "«                        ┌──────────┐                  ┌───────────┐\n",
       "«q_0: ───────────■───────┤ Ry(θ[9]) ├───────────■──────┤ Ry(θ[12]) ├\n",
       "«              ┌─┴─┐    ┌┴──────────┤         ┌─┴─┐    ├───────────┤\n",
       "«q_1: ──■──────┤ X ├────┤ Ry(θ[10]) ├──■──────┤ X ├────┤ Ry(θ[13]) ├\n",
       "«     ┌─┴─┐┌───┴───┴───┐└───────────┘┌─┴─┐┌───┴───┴───┐└───────────┘\n",
       "«q_2: ┤ X ├┤ Ry(θ[11]) ├─────────────┤ X ├┤ Ry(θ[14]) ├─────────────\n",
       "«     └───┘└───────────┘             └───┘└───────────┘             </pre>"
      ],
      "text/plain": [
       "     ┌──────────┐                 ┌──────────┐                 ┌──────────┐»\n",
       "q_0: ┤ Ry(θ[0]) ├──────────■──────┤ Ry(θ[3]) ├──────────■──────┤ Ry(θ[6]) ├»\n",
       "     ├──────────┤        ┌─┴─┐    ├──────────┤        ┌─┴─┐    ├──────────┤»\n",
       "q_1: ┤ Ry(θ[1]) ├──■─────┤ X ├────┤ Ry(θ[4]) ├──■─────┤ X ├────┤ Ry(θ[7]) ├»\n",
       "     ├──────────┤┌─┴─┐┌──┴───┴───┐└──────────┘┌─┴─┐┌──┴───┴───┐└──────────┘»\n",
       "q_2: ┤ Ry(θ[2]) ├┤ X ├┤ Ry(θ[5]) ├────────────┤ X ├┤ Ry(θ[8]) ├────────────»\n",
       "     └──────────┘└───┘└──────────┘            └───┘└──────────┘            »\n",
       "«                        ┌──────────┐                  ┌───────────┐\n",
       "«q_0: ───────────■───────┤ Ry(θ[9]) ├───────────■──────┤ Ry(θ[12]) ├\n",
       "«              ┌─┴─┐    ┌┴──────────┤         ┌─┴─┐    ├───────────┤\n",
       "«q_1: ──■──────┤ X ├────┤ Ry(θ[10]) ├──■──────┤ X ├────┤ Ry(θ[13]) ├\n",
       "«     ┌─┴─┐┌───┴───┴───┐└───────────┘┌─┴─┐┌───┴───┴───┐└───────────┘\n",
       "«q_2: ┤ X ├┤ Ry(θ[11]) ├─────────────┤ X ├┤ Ry(θ[14]) ├─────────────\n",
       "«     └───┘└───────────┘             └───┘└───────────┘             "
      ]
     },
     "execution_count": 10,
     "metadata": {},
     "output_type": "execute_result"
    }
   ],
   "source": [
    "from qiskit.circuit.library import RealAmplitudes\n",
    "\n",
    "\n",
    "'''\n",
    "For amplitude encoding, num_qubits = n = np.log2(num_features)\n",
    "'''\n",
    "\n",
    "pqc = RealAmplitudes(num_qubits=n, reps= 4)\n",
    "pqc.decompose().draw()"
   ]
  },
  {
   "cell_type": "code",
   "execution_count": 11,
   "id": "494f2893",
   "metadata": {},
   "outputs": [],
   "source": [
    "optimizer = COBYLA(maxiter=150)                 \n",
    "sampler = Sampler()\n",
    "\n",
    "\n",
    "\n",
    "\n",
    "objective_func_vals = []\n",
    "                                    \n",
    "def callback(weights, obj_func_eval):\n",
    "    clear_output(wait=True)\n",
    "    objective_func_vals.append(obj_func_eval)\n",
    "    plt.xlabel(\"Iteration\")\n",
    "    plt.ylabel(\"Objective function value\")\n",
    "    plt.plot(range(len(objective_func_vals)), objective_func_vals)\n",
    "    plt.show()\n",
    "\n",
    "\n",
    "vqc = VQC(\n",
    "    sampler=sampler,\n",
    "    feature_map=fm,\n",
    "    ansatz=pqc,\n",
    "    optimizer=optimizer,\n",
    "    callback=callback,\n",
    ")"
   ]
  },
  {
   "cell_type": "markdown",
   "id": "8a25a2bd",
   "metadata": {},
   "source": [
    "## Training and evaluating performance"
   ]
  },
  {
   "cell_type": "code",
   "execution_count": 12,
   "id": "2df51693",
   "metadata": {},
   "outputs": [
    {
     "data": {
      "image/png": "[encoded data removed]",
      "text/plain": [
       "<Figure size 640x480 with 1 Axes>"
      ]
     },
     "metadata": {},
     "output_type": "display_data"
    },
    {
     "name": "stdout",
     "output_type": "stream",
     "text": [
      "Wall time: 13min 10s\n"
     ]
    },
    {
     "data": {
      "text/plain": [
       "<qiskit_machine_learning.algorithms.classifiers.vqc.VQC at 0x173d6eea100>"
      ]
     },
     "execution_count": 12,
     "metadata": {},
     "output_type": "execute_result"
    }
   ],
   "source": [
    "%%time\n",
    "\n",
    "vqc.fit(X_train, y_train)"
   ]
  },
  {
   "cell_type": "code",
   "execution_count": 13,
   "id": "cc5fb9f1",
   "metadata": {},
   "outputs": [
    {
     "name": "stdout",
     "output_type": "stream",
     "text": [
      "              precision    recall  f1-score   support\n",
      "\n",
      "           0       1.00      0.62      0.77        95\n",
      "           1       0.70      1.00      0.83        86\n",
      "\n",
      "    accuracy                           0.80       181\n",
      "   macro avg       0.85      0.81      0.80       181\n",
      "weighted avg       0.86      0.80      0.80       181\n",
      "\n",
      "[[59 36]\n",
      " [ 0 86]] = confusion matrix for test set \n",
      " \n"
     ]
    }
   ],
   "source": [
    "y_test_pred = vqc.predict(X_test)\n",
    "\n",
    "\n",
    "print(classification_report(y_test, y_test_pred))\n",
    "print(confusion_matrix(y_test, y_test_pred), \"= confusion matrix for test set \\n \")\n"
   ]
  },
  {
   "cell_type": "code",
   "execution_count": 14,
   "id": "0349e8aa",
   "metadata": {},
   "outputs": [
    {
     "name": "stdout",
     "output_type": "stream",
     "text": [
      "[0 0 0 1 1 1 1 0 0 1 1 1 1 1 1 0 1 1 1 1 1 1 1 1 0 1 0 1 1 1 1 0 0 0 1 1 1\n",
      " 1 1 0 1 1 1 1 1 1 1 1 0 1 0 1 1 1 1 1 1 0 0 1 1 1 1 1 1 1 0 0 1 1 1 0 0 1\n",
      " 1 1 1 1 1 0 1 0 1 1 0 0 0 1 0 0 1 1 1 1 1 1 1 0 1 1 1 1 0 1 0 0 1 0 1 0 1\n",
      " 1 0 1 1 0 1 1 1 1 1 1 0 0 1 0 1 1 0 1 0 0 1 0 1 0 1 1 0 0 1 1 1 0 1 1 0 0\n",
      " 1 1 0 1 1 1 1 0 1 1 1 0 0 1 0 0 1 1 1 1 1 1 1 1 0 0 1 0 1 0 1 0 1]\n"
     ]
    }
   ],
   "source": [
    "print(y_test_pred)"
   ]
  },
  {
   "cell_type": "code",
   "execution_count": 15,
   "id": "e5964d4f",
   "metadata": {},
   "outputs": [
    {
     "name": "stdout",
     "output_type": "stream",
     "text": [
      "[0 0 0 1 1 0 0 0 0 1 1 1 0 1 1 0 0 1 1 0 0 1 1 1 0 1 0 1 1 1 1 0 0 0 1 1 1\n",
      " 0 1 0 1 1 0 1 0 0 0 1 0 1 0 1 1 1 1 1 1 0 0 0 1 0 1 1 1 0 0 0 1 1 1 0 0 1\n",
      " 1 0 0 1 1 0 1 0 0 0 0 0 0 1 0 0 0 0 1 1 1 1 1 0 1 1 1 1 0 1 0 0 0 0 0 0 1\n",
      " 1 0 0 1 0 1 0 1 1 0 1 0 0 1 0 1 1 0 1 0 0 1 0 0 0 1 0 0 0 1 1 1 0 1 0 0 0\n",
      " 1 0 0 1 0 1 1 0 1 0 1 0 0 1 0 0 1 1 0 1 1 0 1 0 0 0 1 0 1 0 0 0 0]\n"
     ]
    }
   ],
   "source": [
    "print(y_test)"
   ]
  },
  {
   "cell_type": "code",
   "execution_count": null,
   "id": "0d54e901",
   "metadata": {},
   "outputs": [],
   "source": []
  }
 ],
 "metadata": {
  "kernelspec": {
   "display_name": "Python 3 (ipykernel)",
   "language": "python",
   "name": "python3"
  },
  "language_info": {
   "codemirror_mode": {
    "name": "ipython",
    "version": 3
   },
   "file_extension": ".py",
   "mimetype": "text/x-python",
   "name": "python",
   "nbconvert_exporter": "python",
   "pygments_lexer": "ipython3",
   "version": "3.9.13"
  }
 },
 "nbformat": 4,
 "nbformat_minor": 5
}
